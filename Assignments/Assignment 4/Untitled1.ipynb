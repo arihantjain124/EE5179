{
 "cells": [
  {
   "cell_type": "code",
   "execution_count": 1,
   "id": "7f2a0558",
   "metadata": {},
   "outputs": [],
   "source": [
    "import numpy as np\n",
    "import torch\n",
    "from torch import nn\n",
    "import math\n",
    "import torch.nn.functional as F\n",
    "import torchvision\n",
    "import torchvision.datasets as datasets\n",
    "import torchvision.transforms as transforms\n",
    "from numpy import array\n",
    "from scipy.linalg import svd\n",
    "from numpy import diag\n",
    "import matplotlib.pyplot as plt"
   ]
  },
  {
   "cell_type": "code",
   "execution_count": 2,
   "id": "f24d6c5f",
   "metadata": {},
   "outputs": [],
   "source": [
    "MNIST_train = datasets.MNIST(root='./data', train = True , download=True, transform = torchvision.transforms.Compose([torchvision.transforms.ToTensor(),torchvision.transforms.Normalize((0.1307,), (0.3081,))]))\n",
    "MNIST_test = datasets.MNIST(root='./data', train = False ,download=True, transform = torchvision.transforms.Compose([torchvision.transforms.ToTensor(),torchvision.transforms.Normalize((0.1307,), (0.3081,))]))"
   ]
  },
  {
   "cell_type": "code",
   "execution_count": 3,
   "id": "1d23b32a",
   "metadata": {},
   "outputs": [],
   "source": [
    "train_set, val_set = torch.utils.data.random_split(MNIST_train, [50000, 10000])\n",
    "\n",
    "train_data = torch.utils.data.DataLoader(train_set, batch_size=100,shuffle=True)\n",
    "\n",
    "val_data = torch.utils.data.DataLoader(val_set, batch_size=100,shuffle=True)\n",
    "\n",
    "test_data = torch.utils.data.DataLoader(MNIST_test, batch_size=100,shuffle=True)"
   ]
  },
  {
   "cell_type": "code",
   "execution_count": 4,
   "id": "361165b5",
   "metadata": {},
   "outputs": [
    {
     "data": {
      "text/plain": [
       "True"
      ]
     },
     "execution_count": 4,
     "metadata": {},
     "output_type": "execute_result"
    }
   ],
   "source": [
    "import torch\n",
    "torch.cuda.is_available()"
   ]
  },
  {
   "cell_type": "code",
   "execution_count": 5,
   "id": "4c2e6651",
   "metadata": {},
   "outputs": [
    {
     "name": "stdout",
     "output_type": "stream",
     "text": [
      "cpu\n",
      "cuda:0\n"
     ]
    }
   ],
   "source": [
    "# cpu-gpu\n",
    "a = torch.randn((3, 4))\n",
    "print(a.device)\n",
    "\n",
    "device = torch.device(\"cuda\")\n",
    "a = a.to(device)\n",
    "print(a.device)\n",
    "\n",
    "# a more generic code\n",
    "device = torch.device('cuda' if torch.cuda.is_available() else 'cpu')"
   ]
  },
  {
   "cell_type": "code",
   "execution_count": 75,
   "id": "e2f57486",
   "metadata": {},
   "outputs": [],
   "source": [
    "data = next(iter(train_data))[0]"
   ]
  },
  {
   "cell_type": "code",
   "execution_count": 76,
   "id": "e5a11b44",
   "metadata": {},
   "outputs": [],
   "source": [
    "def PCA(data, k):\n",
    "    batch_size = data.shape[0]\n",
    "    data = data.reshape(batch_size,data.shape[2]*data.shape[3])\n",
    "    print(data.shape)\n",
    "    U,S,V = torch.linalg.svd(data, full_matrices = False)\n",
    "    approx = (U @ torch.diag(S))[:, :k] @ V[:k]\n",
    "    return approx"
   ]
  },
  {
   "cell_type": "code",
   "execution_count": 77,
   "id": "03642b8d",
   "metadata": {},
   "outputs": [
    {
     "name": "stdout",
     "output_type": "stream",
     "text": [
      "torch.Size([100, 784])\n"
     ]
    }
   ],
   "source": [
    "recon = PCA(data,30)"
   ]
  },
  {
   "cell_type": "code",
   "execution_count": 78,
   "id": "89dc95da",
   "metadata": {},
   "outputs": [
    {
     "data": {
      "text/plain": [
       "<matplotlib.image.AxesImage at 0x237d4808910>"
      ]
     },
     "execution_count": 78,
     "metadata": {},
     "output_type": "execute_result"
    },
    {
     "data": {
      "image/png": "[encoded data removed]",
      "text/plain": [
       "<Figure size 640x480 with 1 Axes>"
      ]
     },
     "metadata": {},
     "output_type": "display_data"
    }
   ],
   "source": [
    "plt.imshow(recon[0,:].reshape(28,28),cmap='gray')"
   ]
  },
  {
   "cell_type": "code",
   "execution_count": 79,
   "id": "37a1bea6",
   "metadata": {},
   "outputs": [
    {
     "data": {
      "text/plain": [
       "<matplotlib.image.AxesImage at 0x237d48399d0>"
      ]
     },
     "execution_count": 79,
     "metadata": {},
     "output_type": "execute_result"
    },
    {
     "data": {
      "image/png": "[encoded data removed]",
      "text/plain": [
       "<Figure size 640x480 with 1 Axes>"
      ]
     },
     "metadata": {},
     "output_type": "display_data"
    }
   ],
   "source": [
    "plt.imshow(data[0].reshape(28,28),cmap='gray')"
   ]
  },
  {
   "cell_type": "code",
   "execution_count": 21,
   "id": "ae3e374e",
   "metadata": {},
   "outputs": [],
   "source": [
    "class MNIST_AE(nn.Module):\n",
    "    def __init__(self):\n",
    "        super(MNIST_AE, self).__init__()\n",
    "        self.encoder = nn.Sequential(\n",
    "        nn.Linear(784,512),\n",
    "        nn.ReLU(),\n",
    "        nn.Linear(512,256),\n",
    "        nn.ReLU(),\n",
    "        nn.Linear(256,128),\n",
    "        nn.ReLU(),\n",
    "        nn.Linear(128,30),\n",
    "        nn.ReLU())\n",
    "        self.decoder =nn.Sequential(\n",
    "        nn.Linear(30,128),\n",
    "        nn.ReLU(),\n",
    "        nn.Linear(128,256),\n",
    "        nn.ReLU(),\n",
    "        nn.Linear(256,784),\n",
    "        nn.ReLU())\n",
    "\n",
    "    def forward(self,x):\n",
    "        x=self.encoder(x)\n",
    "        x=self.decoder(x)\n",
    "        return x    "
   ]
  },
  {
   "cell_type": "code",
   "execution_count": 68,
   "id": "85480e8b",
   "metadata": {},
   "outputs": [],
   "source": [
    "LearningRate=0.0003\n",
    "epochs=10\n",
    "model=MNIST_AE()\n",
    "criterion = nn.MSELoss()\n",
    "optimizer = torch.optim.Adam(model.parameters(), lr=LearningRate)"
   ]
  },
  {
   "cell_type": "code",
   "execution_count": 81,
   "id": "798f3cd2",
   "metadata": {},
   "outputs": [],
   "source": [
    "def train(model,train_data,valid_data,epoch = 10):\n",
    "    model.to(device)\n",
    "    trainloss = []\n",
    "    validloss = []\n",
    "\n",
    "    for epoch in range(epochs):\n",
    "        for images, labels in train_data:\n",
    "            images = images.to(device)\n",
    "            images = images.reshape(100,784)\n",
    "            outputs = model(images.float())\n",
    "            loss = criterion(outputs, images)\n",
    "            trainloss.append(loss.item())\n",
    "            optimizer.zero_grad()\n",
    "            loss.backward()\n",
    "            optimizer.step()\n",
    "        val_loss = 0\n",
    "        iteration = 0\n",
    "        for images, labels in valid_data:\n",
    "            \n",
    "            images = images.to(device)\n",
    "            images = images.reshape(100,784)\n",
    "            outputs = model(images.float())\n",
    "            loss = criterion(outputs, images)\n",
    "            val_loss+=loss.item()\n",
    "            iteration+=1\n",
    "        validloss.append(val_loss/iteration)\n",
    "        print('Epoch',epoch+1,' over current validation loss:',validloss[-1])\n",
    "    return model,trainloss,validloss"
   ]
  },
  {
   "cell_type": "code",
   "execution_count": 82,
   "id": "c7283c22",
   "metadata": {},
   "outputs": [],
   "source": [
    "learned_models = {}"
   ]
  },
  {
   "cell_type": "code",
   "execution_count": 83,
   "id": "9c3b9e20",
   "metadata": {},
   "outputs": [
    {
     "name": "stdout",
     "output_type": "stream",
     "text": [
      "Epoch 1  over current validation loss: 0.4971572557091713\n",
      "Epoch 2  over current validation loss: 0.43772098124027253\n",
      "Epoch 3  over current validation loss: 0.40753624141216277\n",
      "Epoch 4  over current validation loss: 0.39144553124904635\n",
      "Epoch 5  over current validation loss: 0.3796533235907555\n",
      "Epoch 6  over current validation loss: 0.37140050023794174\n",
      "Epoch 7  over current validation loss: 0.3662433338165283\n",
      "Epoch 8  over current validation loss: 0.36251472622156145\n",
      "Epoch 9  over current validation loss: 0.3586424577236176\n",
      "Epoch 10  over current validation loss: 0.35599857360124587\n"
     ]
    }
   ],
   "source": [
    "learned_models['MNIST_PCA_vs_AutoEncoder'] = train(model,train_data,val_data)"
   ]
  },
  {
   "cell_type": "code",
   "execution_count": 46,
   "id": "924cc6c4",
   "metadata": {},
   "outputs": [
    {
     "name": "stderr",
     "output_type": "stream",
     "text": [
      "C:\\Users\\ariha\\AppData\\Local\\Temp\\ipykernel_8552\\784485322.py:4: MatplotlibDeprecationWarning: The 'b' parameter of grid() has been renamed 'visible' since Matplotlib 3.5; support for the old name will be dropped two minor releases later.\n",
      "  plt.grid(b=True, which='major', color='#666666', linestyle='-')\n",
      "C:\\Users\\ariha\\AppData\\Local\\Temp\\ipykernel_8552\\784485322.py:6: MatplotlibDeprecationWarning: The 'b' parameter of grid() has been renamed 'visible' since Matplotlib 3.5; support for the old name will be dropped two minor releases later.\n",
      "  plt.grid(b=True, which='minor', color='#999999', linestyle='-', alpha=0.2)\n"
     ]
    },
    {
     "data": {
      "image/png": "[encoded data removed]",
      "text/plain": [
       "<Figure size 640x480 with 1 Axes>"
      ]
     },
     "metadata": {},
     "output_type": "display_data"
    }
   ],
   "source": [
    "plt.figure(1)\n",
    "xtrainloss=np.arange(len(trainingloss_list))\n",
    "plt.plot(xtrainloss,trainingloss_list)\n",
    "plt.grid(b=True, which='major', color='#666666', linestyle='-')\n",
    "plt.minorticks_on()\n",
    "plt.grid(b=True, which='minor', color='#999999', linestyle='-', alpha=0.2)\n",
    "plt.xlabel('Iterations')\n",
    "plt.ylabel('Training Loss')\n",
    "plt.title('Training Loss vs Iterations')\n",
    "plt.show()"
   ]
  },
  {
   "cell_type": "code",
   "execution_count": 49,
   "id": "05a5ed29",
   "metadata": {},
   "outputs": [
    {
     "data": {
      "text/plain": [
       "<matplotlib.image.AxesImage at 0x237350ed280>"
      ]
     },
     "execution_count": 49,
     "metadata": {},
     "output_type": "execute_result"
    },
    {
     "data": {
      "image/png": "[encoded data removed]",
      "text/plain": [
       "<Figure size 640x480 with 1 Axes>"
      ]
     },
     "metadata": {},
     "output_type": "display_data"
    }
   ],
   "source": [
    "plt.imshow(outputs.detach().cpu().numpy()[1].reshape(28,28),cmap='gray')"
   ]
  },
  {
   "cell_type": "code",
   "execution_count": null,
   "id": "b1ec93a8",
   "metadata": {},
   "outputs": [],
   "source": [
    "class AE2(nn.Module):\n",
    "    def __init__(self,hidsize):\n",
    "        super(AE2, self).__init__()\n",
    "        self.hidsize=hidsize\n",
    "        self.encoder = nn.Sequential(\n",
    "        nn.Linear(784,hidsize),\n",
    "        nn.ReLU())\n",
    "        self.decoder =nn.Sequential(\n",
    "        nn.Linear(hidsize,784),\n",
    "        nn.ReLU())\n",
    "\n",
    "    def forward(self,x):\n",
    "        x=self.encoder(x)\n",
    "        x=self.decoder(x)\n",
    "        return x    "
   ]
  }
 ],
 "metadata": {
  "kernelspec": {
   "display_name": "Deeplearning",
   "language": "python",
   "name": "deeplearning"
  },
  "language_info": {
   "codemirror_mode": {
    "name": "ipython",
    "version": 3
   },
   "file_extension": ".py",
   "mimetype": "text/x-python",
   "name": "python",
   "nbconvert_exporter": "python",
   "pygments_lexer": "ipython3",
   "version": "3.8.10"
  }
 },
 "nbformat": 4,
 "nbformat_minor": 5
}

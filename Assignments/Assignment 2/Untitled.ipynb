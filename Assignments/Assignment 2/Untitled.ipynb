{
 "cells": [
  {
   "cell_type": "code",
   "execution_count": 1,
   "id": "3bf71fcf",
   "metadata": {},
   "outputs": [
    {
     "name": "stderr",
     "output_type": "stream",
     "text": [
      "c:\\users\\ariha\\appdata\\local\\programs\\python\\python38\\lib\\site-packages\\tqdm\\auto.py:22: TqdmWarning: IProgress not found. Please update jupyter and ipywidgets. See https://ipywidgets.readthedocs.io/en/stable/user_install.html\n",
      "  from .autonotebook import tqdm as notebook_tqdm\n"
     ]
    }
   ],
   "source": [
    "# import torch\n",
    "# import torchvision\n",
    "import torchvision.datasets as datasets\n",
    "import numpy as np"
   ]
  },
  {
   "cell_type": "code",
   "execution_count": 6,
   "id": "9e701438",
   "metadata": {},
   "outputs": [],
   "source": [
    "\n",
    "def one_hot(x):\n",
    "    temp = np.zeros(10, dtype=float)\n",
    "    temp[x] = 1\n",
    "    return temp\n",
    "\n",
    "def transform(x):\n",
    "    return np.array(x)/255.0\n",
    "\n",
    "\n",
    "mnist_trainset = datasets.MNIST(root='./data', train = True , download=True,target_transform = one_hot)\n",
    "mnist_testset = datasets.MNIST(root='./data', train = False ,download=True, target_transform = one_hot)\n"
   ]
  },
  {
   "cell_type": "code",
   "execution_count": 7,
   "id": "bd25b275",
   "metadata": {},
   "outputs": [
    {
     "data": {
      "text/plain": [
       "Dataset MNIST\n",
       "    Number of datapoints: 10000\n",
       "    Root location: ./data\n",
       "    Split: Test\n",
       "    StandardTransform\n",
       "Target transform: <function one_hot at 0x000001863B273040>"
      ]
     },
     "execution_count": 7,
     "metadata": {},
     "output_type": "execute_result"
    }
   ],
   "source": [
    "mnist_testset"
   ]
  },
  {
   "cell_type": "code",
   "execution_count": null,
   "id": "1c0568dc",
   "metadata": {},
   "outputs": [],
   "source": []
  }
 ],
 "metadata": {
  "kernelspec": {
   "display_name": "Python 3 (ipykernel)",
   "language": "python",
   "name": "python3"
  },
  "language_info": {
   "codemirror_mode": {
    "name": "ipython",
    "version": 3
   },
   "file_extension": ".py",
   "mimetype": "text/x-python",
   "name": "python",
   "nbconvert_exporter": "python",
   "pygments_lexer": "ipython3",
   "version": "3.8.10"
  }
 },
 "nbformat": 4,
 "nbformat_minor": 5
}

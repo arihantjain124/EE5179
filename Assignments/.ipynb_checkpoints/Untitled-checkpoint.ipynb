{
 "cells": [
  {
   "cell_type": "code",
   "execution_count": 1,
   "id": "5691c295",
   "metadata": {},
   "outputs": [
    {
     "name": "stderr",
     "output_type": "stream",
     "text": [
      "c:\\users\\ariha\\appdata\\local\\programs\\python\\python38\\lib\\site-packages\\tqdm\\auto.py:22: TqdmWarning: IProgress not found. Please update jupyter and ipywidgets. See https://ipywidgets.readthedocs.io/en/stable/user_install.html\n",
      "  from .autonotebook import tqdm as notebook_tqdm\n"
     ]
    }
   ],
   "source": [
    "# import torch\n",
    "# import torchvision\n",
    "import torchvision.datasets as datasets\n",
    "import numpy as np"
   ]
  },
  {
   "cell_type": "code",
   "execution_count": 2,
   "id": "3d2024db",
   "metadata": {},
   "outputs": [],
   "source": [
    "\n",
    "def one_hot(x):\n",
    "    temp = np.zeros(10, dtype=np.float)\n",
    "    temp[x] = 1\n",
    "    return temp\n",
    "\n",
    "def transform(x):\n",
    "    return np.array(x)/255.0"
   ]
  },
  {
   "cell_type": "code",
   "execution_count": 3,
   "id": "15627a4e",
   "metadata": {},
   "outputs": [],
   "source": [
    "\n",
    "mnist_trainset = datasets.MNIST(root='./data', train = True , download=True, transform=transform, target_transform = one_hot)\n",
    "mnist_testset = datasets.MNIST(root='./data', train = False ,download=True, transform=transform, target_transform = one_hot)\n"
   ]
  },
  {
   "cell_type": "code",
   "execution_count": 4,
   "id": "c1c59e9e",
   "metadata": {},
   "outputs": [
    {
     "data": {
      "text/plain": [
       "Text(0.5, 1.0, 'image index 10 label 3')"
      ]
     },
     "execution_count": 4,
     "metadata": {},
     "output_type": "execute_result"
    },
    {
     "data": {
      "image/png": "[encoded data removed]",
      "text/plain": [
       "<Figure size 432x288 with 1 Axes>"
      ]
     },
     "metadata": {
      "needs_background": "light"
     },
     "output_type": "display_data"
    }
   ],
   "source": [
    "import matplotlib.pyplot as plt\n",
    "i=10\n",
    "plt.imshow(mnist_trainset.data[i],cmap='gray')\n",
    "plt.title(\"image index \" + str(i) + \" label \" + str(mnist_trainset.targets[i].item()) )"
   ]
  },
  {
   "cell_type": "code",
   "execution_count": 5,
   "id": "7fbf4170",
   "metadata": {},
   "outputs": [],
   "source": [
    "from torch.utils.data import DataLoader\n",
    "train_dataloader = DataLoader(mnist_trainset, batch_size=64, shuffle=True)\n",
    "test_dataloader = DataLoader(mnist_testset, batch_size=64, shuffle=True)"
   ]
  },
  {
   "cell_type": "code",
   "execution_count": 10,
   "id": "17c88cae",
   "metadata": {},
   "outputs": [],
   "source": [
    "IP_L = mnist_trainset.data[i].flatten().shape[0]\n",
    "H1_L = 500\n",
    "H2_L = 250\n",
    "H3_L = 100\n",
    "OP_L = mnist_trainset.train_labels.unique().shape[0]\n",
    "\n",
    "layers_dims = [IP_L,H1_L,H2_L,H3_L,OP_L]\n",
    "from scipy.special import softmax\n",
    "\n",
    "def initialize_parameters(layer_dims,random = False):\n",
    "    \n",
    "    np.random.seed(3)\n",
    "    parameters = {}\n",
    "    L = len(layer_dims) # number of layers in the network\n",
    "\n",
    "    for l in range(1, L):\n",
    "        \n",
    "        if random == True:\n",
    "            parameters['W' + str(l)] = np.random.randn(layer_dims[l], layer_dims[l-1]) / np.sqrt(layer_dims[l-1])\n",
    "            parameters['b' + str(l)] = np.random.randn(layer_dims[l], 1)\n",
    "            \n",
    "        else:\n",
    "            parameters['W' + str(l)] = np.zeros((layer_dims[l], layer_dims[l-1]))\n",
    "            parameters['b' + str(l)] = np.zeros((layer_dims[l], 1))\n",
    "            \n",
    "        assert(parameters['W' + str(l)].shape == (layer_dims[l], layer_dims[l-1]))\n",
    "        assert(parameters['b' + str(l)].shape == (layer_dims[l], 1))\n",
    "        \n",
    "    return parameters\n",
    "    \n",
    "def sigmoid(x):\n",
    "    return 1/(1+np.exp(-x))\n",
    "\n",
    "def relu(x):\n",
    "    return np.maximum(0,x)\n",
    "\n",
    "\n",
    "def forward_pass(img,parameters):\n",
    "    \n",
    "    forward_pass = {}\n",
    "    L = int (len(parameters)/2)\n",
    "    \n",
    "    forward_pass['Z1'] = ( np.dot(parameters['W1'],img) + (parameters['b1']) )\n",
    "    \n",
    "    for i in range(2,L+1):\n",
    "        \n",
    "        forward_pass['A' + str(i-1)] =(sigmoid(forward_pass['Z' + str(i-1)]))\n",
    "        forward_pass['Z' + str(i)] =( np.dot(parameters['W'+ str(i)],forward_pass['A' + str(i-1)]) + (parameters['b' + str(i)]) )\n",
    "        \n",
    "    forward_pass['A' + str(L)] = (softmax(forward_pass['Z' + str(L)],axis = 0))\n",
    "    \n",
    "    cache = (forward_pass,parameters)\n",
    "    \n",
    "    return forward_pass['A' + str(L)],cache\n",
    "\n",
    "def back_prop(X,Y,cache):\n",
    "    \n",
    "    m = X.shape[1]\n",
    "    \n",
    "    forward_pass,parameters = cache\n",
    "    L = len(parameters)//2\n",
    "    \n",
    "    grads = {}\n",
    "    \n",
    "    grads['dZ' + str(L)] = forward_pass['A' + str(L)] - Y\n",
    "    \n",
    "    \n",
    "    for i in range(L-1,0,-1):\n",
    "        \n",
    "        grads['dW' + str(i+1)] = 1./m * np.dot(grads['dZ' + str(i+1)],forward_pass['A' + str(i)].T)\n",
    "        grads['db' + str(i+1)] = 1./m * np.sum(grads['dZ' + str(i+1)],axis=1,keepdims = True)\n",
    "        grads['dA' + str(i)] = np.dot(parameters['W' + str(i+1)].T,grads['dZ' + str(i+1)])\n",
    "        grads['dZ' + str(i)] = grads['dA' + str(i)]*forward_pass['A' + str(i)]*(1-forward_pass['A' + str(i)])\n",
    "    \n",
    "    grads['dW1'] = 1./m * np.dot(grads['dZ1'],X.T)\n",
    "    grads['db1'] = 1./m * np.sum(grads['dZ1'],axis=1,keepdims = True)\n",
    "\n",
    "    return grads\n",
    "\n",
    "\n",
    "def update_parameters(parameters,grads,learning_rate,lambd = 0):\n",
    "    \n",
    "    L = len(parameters)//2\n",
    "    \n",
    "    for k in range(L):\n",
    "        parameters[\"W\" + str(k+1)] = parameters[\"W\" + str(k+1)] - (learning_rate * grads[\"dW\" + str(k+1)] + lambd*parameters[\"W\" + str(k+1)])\n",
    "        parameters[\"b\" + str(k+1)] = parameters[\"b\" + str(k+1)] - (learning_rate * grads[\"db\" + str(k+1)])\n",
    "        \n",
    "    return parameters\n",
    "\n",
    "def compute_cost(a3 , Y):\n",
    "    \n",
    "    m = Y.shape[1]\n",
    "    \n",
    "    logprobs = np.multiply(-np.log(a3),Y) + np.multiply(-np.log(1 - a3), 1 - Y)\n",
    "    cost = 1./m * np.sum(logprobs)\n",
    "    \n",
    "    return cost"
   ]
  },
  {
   "cell_type": "code",
   "execution_count": 11,
   "id": "bab05098",
   "metadata": {
    "scrolled": true
   },
   "outputs": [
    {
     "name": "stderr",
     "output_type": "stream",
     "text": [
      "C:\\Users\\ariha\\AppData\\Local\\Temp\\ipykernel_15400\\3778725111.py:2: DeprecationWarning: `np.float` is a deprecated alias for the builtin `float`. To silence this warning, use `float` by itself. Doing this will not modify any behavior and is safe. If you specifically wanted the numpy scalar type, use `np.float64` here.\n",
      "Deprecated in NumPy 1.20; for more details and guidance: https://numpy.org/devdocs/release/1.20.0-notes.html#deprecations\n",
      "  temp = np.zeros(10, dtype=np.float)\n"
     ]
    }
   ],
   "source": [
    "# Display image and label.\n",
    "train_features, train_labels = next(iter(train_dataloader))\n",
    "\n",
    "train_X = np.swapaxes(np.array(train_features),0,2).reshape(784,64)\n",
    "train_Y = np.swapaxes(np.array(train_labels),0,1)\n",
    "parameters = initialize_parameters(layers_dims,True)\n",
    "predict , cache = forward_pass(train_X,parameters)\n",
    "pass_ = back_prop(train_X,train_Y,cache)"
   ]
  },
  {
   "cell_type": "code",
   "execution_count": 12,
   "id": "f693da6b",
   "metadata": {},
   "outputs": [
    {
     "data": {
      "text/plain": [
       "(500, 64)"
      ]
     },
     "execution_count": 12,
     "metadata": {},
     "output_type": "execute_result"
    }
   ],
   "source": [
    "pass_['dZ1'].shape"
   ]
  },
  {
   "cell_type": "code",
   "execution_count": 13,
   "id": "8126342b",
   "metadata": {},
   "outputs": [
    {
     "name": "stdout",
     "output_type": "stream",
     "text": [
      "[0. 0. 0. 0. 0. 0. 0. 1. 0. 0.]\n",
      "[0.05087868 0.06518555 0.02220471 0.40901382 0.08447932 0.18751158\n",
      " 0.13183181 0.01235846 0.02688758 0.0096485 ]\n"
     ]
    },
    {
     "data": {
      "image/png": "[encoded data removed]",
      "text/plain": [
       "<Figure size 432x288 with 1 Axes>"
      ]
     },
     "metadata": {
      "needs_background": "light"
     },
     "output_type": "display_data"
    }
   ],
   "source": [
    "i=10\n",
    "plt.imshow(np.swapaxes(train_X[:,i].reshape(28,28),0,1),cmap='gray')\n",
    "print(str(train_Y[:,i]))\n",
    "print(predict[:,i])"
   ]
  },
  {
   "cell_type": "code",
   "execution_count": 14,
   "id": "1a1b9d44",
   "metadata": {},
   "outputs": [
    {
     "data": {
      "text/plain": [
       "dict_keys(['Z1', 'A1', 'Z2', 'A2', 'Z3', 'A3', 'Z4', 'A4'])"
      ]
     },
     "execution_count": 14,
     "metadata": {},
     "output_type": "execute_result"
    }
   ],
   "source": [
    "cache[0].keys()"
   ]
  },
  {
   "cell_type": "code",
   "execution_count": 15,
   "id": "9d27b930",
   "metadata": {},
   "outputs": [
    {
     "data": {
      "text/plain": [
       "dict_keys(['W1', 'b1', 'W2', 'b2', 'W3', 'b3', 'W4', 'b4'])"
      ]
     },
     "execution_count": 15,
     "metadata": {},
     "output_type": "execute_result"
    }
   ],
   "source": [
    "cache[1].keys()"
   ]
  },
  {
   "cell_type": "code",
   "execution_count": 16,
   "id": "cfc7846d",
   "metadata": {},
   "outputs": [
    {
     "data": {
      "text/plain": [
       "dict_keys(['dZ4', 'dW4', 'db4', 'dA3', 'dZ3', 'dW3', 'db3', 'dA2', 'dZ2', 'dW2', 'db2', 'dA1', 'dZ1', 'dW1', 'db1'])"
      ]
     },
     "execution_count": 16,
     "metadata": {},
     "output_type": "execute_result"
    }
   ],
   "source": [
    "pass_.keys()"
   ]
  },
  {
   "cell_type": "code",
   "execution_count": 17,
   "id": "e3192263",
   "metadata": {},
   "outputs": [],
   "source": [
    "train_dataloader = DataLoader(mnist_trainset, batch_size=64, shuffle=True)\n",
    "test_dataloader = DataLoader(mnist_testset, batch_size=64, shuffle=True)"
   ]
  },
  {
   "cell_type": "code",
   "execution_count": 18,
   "id": "09cda5ed",
   "metadata": {},
   "outputs": [],
   "source": [
    "def model(batch_size = 64,learning_rate = 0.3, num_iterations = 30000, print_cost = True, lambd = 0,random = False):\n",
    "    \n",
    "    grads = {}\n",
    "    costs = []\n",
    "    m = batch_size\n",
    "    layers_dims = [IP_L, H1_L, H2_L, H3_L,OP_L]\n",
    "    \n",
    "    parameters = initialize_parameters(layers_dims,random)\n",
    "    \n",
    "    for i in range(num_iterations):\n",
    "        \n",
    "        batch_x, batch_y = next(iter(train_dataloader))\n",
    "        X = np.swapaxes(np.array(batch_x),0,2).reshape(784,64)\n",
    "        Y = np.swapaxes(np.array(batch_y),0,1)\n",
    "        a3, cache = forward_pass(X, parameters)\n",
    "        \n",
    "        cost = compute_cost(a3, Y)\n",
    "    \n",
    "        grads = back_prop(X, Y, cache)\n",
    "        \n",
    "        parameters = update_parameters(parameters, grads, learning_rate,lambd = lambd)\n",
    "        \n",
    "        # Print the loss every 10000 iterations\n",
    "        if print_cost and i % 10000 == 0:\n",
    "            print(\"Cost after iteration {}: {}\".format(i, cost))\n",
    "        if print_cost and i % 1000 == 0:\n",
    "            costs.append(cost)\n",
    "        # plot the cost\n",
    "    plt.plot(costs)\n",
    "    plt.ylabel('cost')\n",
    "    plt.xlabel('iterations (x1,000)')\n",
    "    plt.title(\"Learning rate =\" + str(learning_rate))\n",
    "    plt.show()\n",
    "    \n",
    "    return parameters"
   ]
  },
  {
   "cell_type": "code",
   "execution_count": 19,
   "id": "bf672f1a",
   "metadata": {},
   "outputs": [],
   "source": [
    "learned_parameters={}"
   ]
  },
  {
   "cell_type": "code",
   "execution_count": null,
   "id": "d23af1c4",
   "metadata": {},
   "outputs": [
    {
     "name": "stderr",
     "output_type": "stream",
     "text": [
      "C:\\Users\\ariha\\AppData\\Local\\Temp\\ipykernel_15400\\3778725111.py:2: DeprecationWarning: `np.float` is a deprecated alias for the builtin `float`. To silence this warning, use `float` by itself. Doing this will not modify any behavior and is safe. If you specifically wanted the numpy scalar type, use `np.float64` here.\n",
      "Deprecated in NumPy 1.20; for more details and guidance: https://numpy.org/devdocs/release/1.20.0-notes.html#deprecations\n",
      "  temp = np.zeros(10, dtype=np.float)\n"
     ]
    },
    {
     "name": "stdout",
     "output_type": "stream",
     "text": [
      "Cost after iteration 0: 3.9838225486513466\n",
      "Cost after iteration 10000: 0.135153097097355\n"
     ]
    }
   ],
   "source": [
    "parameters = model(num_iterations = 30000,random = True)"
   ]
  },
  {
   "cell_type": "code",
   "execution_count": null,
   "id": "dd81d91e",
   "metadata": {},
   "outputs": [],
   "source": [
    "i=10\n",
    "plt.imshow(np.swapaxes(train_X[:,i].reshape(28,28),0,1),cmap='gray')\n",
    "print(\"Label \",np.where(train_Y[:,i] == train_Y[:,i].max())[0][0])\n",
    "print(\"Prediction \",np.where(forward_pass(train_X,parameters)[0][:,i] == forward_pass(train_X,parameters)[0][:,i].max())[0][0])"
   ]
  },
  {
   "cell_type": "code",
   "execution_count": null,
   "id": "039ef67c",
   "metadata": {},
   "outputs": [],
   "source": []
  },
  {
   "cell_type": "code",
   "execution_count": null,
   "id": "b0ace16b",
   "metadata": {},
   "outputs": [],
   "source": []
  },
  {
   "cell_type": "code",
   "execution_count": null,
   "id": "18e4a944",
   "metadata": {},
   "outputs": [],
   "source": [
    "learning_rate = 0.5\n",
    "lambd = 2\n",
    "batch_size = 64\n",
    "model_name = \"L=\" + str(learning_rate) + \",R=\" + str(lambd) + \",BS=\" + str(batch_size)\n",
    "print(model_name)\n",
    "learned_parameters[model_name] = model(batch_size = batch_size,learning_rate = learning_rate, num_iterations = 30000, print_cost = True, lambd = lambd,random = False)"
   ]
  },
  {
   "cell_type": "code",
   "execution_count": null,
   "id": "3d30b37f",
   "metadata": {},
   "outputs": [],
   "source": [
    "learning_rate = 0.3\n",
    "lambd = 0\n",
    "batch_size = 64\n",
    "model_name = \"L=\" + str(learning_rate) + \",R=\" + str(lambd) + \",BS=\" + str(batch_size)\n",
    "print(model_name)\n",
    "learned_parameters[model_name] = model(batch_size = batch_size,learning_rate = learning_rate, num_iterations = 30000, print_cost = True, lambd = lambd,random = False)"
   ]
  },
  {
   "cell_type": "code",
   "execution_count": null,
   "id": "c0462660",
   "metadata": {},
   "outputs": [],
   "source": []
  }
 ],
 "metadata": {
  "kernelspec": {
   "display_name": "Python 3 (ipykernel)",
   "language": "python",
   "name": "python3"
  },
  "language_info": {
   "codemirror_mode": {
    "name": "ipython",
    "version": 3
   },
   "file_extension": ".py",
   "mimetype": "text/x-python",
   "name": "python",
   "nbconvert_exporter": "python",
   "pygments_lexer": "ipython3",
   "version": "3.8.10"
  }
 },
 "nbformat": 4,
 "nbformat_minor": 5
}
